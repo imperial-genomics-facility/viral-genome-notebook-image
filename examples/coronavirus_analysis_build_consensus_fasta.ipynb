{
 "cells": [
  {
   "cell_type": "markdown",
   "metadata": {},
   "source": [
    "# Building consensus genome from raw fastq reads\n",
    "\n",
    "[![Binder](https://mybinder.org/badge_logo.svg)](https://mybinder.org/v2/gh/imperial-genomics-facility/viral-genome-notebook-image/master?urlpath=lab%2Ftree%2Fexamples%2Fcoronavirus_analysis_build_consensus_fasta.ipynb)\n",
    "\n",
    "* __Notebook version__: `v0.0.1`\n",
    "* __Created by:__ [Dr. Hiren Ghosh](https://www.linkedin.com/in/hiren-ghosh-phd-6181853a), `Imperial BRC Genomics Facility`\n",
    "* __Maintained by:__ `Imperial BRC Genomics Facility`\n",
    "* __Docker image:__ [imperialgenomicsfacility/viral-genome-analysis-notebooks](https://hub.docker.com/r/imperialgenomicsfacility/viral-genome-analysis-notebooks)\n",
    "* __Github repository:__ [imperial-genomics-facility/viral-genome-notebook-image](https://github.com/imperial-genomics-facility/viral-genome-notebook-image)\n",
    "* __Created on:__ `2020-April-21 14:42`\n",
    "* __Contact us:__ [Imperial BRC Genomics Facility](https://www.imperial.ac.uk/medicine/research-and-impact/facilities/genomics-facility/contact/)\n",
    "* __License:__ [Apache License 2.0](https://github.com/imperial-genomics-facility/scanpy-notebook-image/blob/master/LICENSE)"
   ]
  },
  {
   "cell_type": "markdown",
   "metadata": {},
   "source": [
    "## Configure notebook for run"
   ]
  },
  {
   "cell_type": "code",
   "execution_count": 1,
   "metadata": {},
   "outputs": [],
   "source": [
    "## Number of CPU to use\n",
    "CPU_THREADS = 1\n",
    "\n",
    "## Default value for runningthe notebook in binder\n",
    "MEM_LIMIT_GB = 2\n",
    "MEM_LIMIT_BYTES = MEM_LIMIT_GB * 1000000000\n",
    "\n",
    "## Download raw fastq instead of SRA format, faster on binder\n",
    "FETCH_RAW_FASTQ = True\n",
    "\n",
    "## subsample reads to 1M to run in binder, set it to zero to disable\n",
    "SUBSAMPLE_READ = 1000000\n",
    "\n",
    "## A toggle for running assembly on binder, set it to 0 to disable\n",
    "RUN_ASSEMBLY = 1\n",
    "\n",
    "## List of k-mers to use for de-novo assembly\n",
    "ASSEMBLY_KMERS = '27,31'\n",
    "\n",
    "## Accession id of the reference genome \n",
    "REFERENCE_fasta = 'NC_045512.2'\n"
   ]
  },
  {
   "cell_type": "markdown",
   "metadata": {},
   "source": [
    "## Prepare sample list"
   ]
  },
  {
   "cell_type": "code",
   "execution_count": 2,
   "metadata": {},
   "outputs": [],
   "source": [
    "## we only have one sample in the list along with the fastq files for the sample\n",
    "\n",
    "list_of_samples_data = \\\n",
    "  [{'sample_name':'SRR10971381',\n",
    "    'fastq_files' : [\n",
    "      '/tmp/SRR10971381_1.fastq.gz',\n",
    "      '/tmp/SRR10971381_2.fastq.gz']}\n",
    "  ]"
   ]
  },
  {
   "cell_type": "markdown",
   "metadata": {},
   "source": [
    "## Load required python libraries"
   ]
  },
  {
   "cell_type": "code",
   "execution_count": 3,
   "metadata": {},
   "outputs": [],
   "source": [
    "import os, requests"
   ]
  },
  {
   "cell_type": "markdown",
   "metadata": {},
   "source": [
    "## Fetch fastq files from SRA"
   ]
  },
  {
   "cell_type": "code",
   "execution_count": 4,
   "metadata": {},
   "outputs": [
    {
     "name": "stdout",
     "output_type": "stream",
     "text": [
      "--2020-04-21 12:12:18--  https://sra-pub-src-1.s3.amazonaws.com/SRR10971381/WH_R1.fastq.gz.1\n",
      "Resolving sra-pub-src-1.s3.amazonaws.com (sra-pub-src-1.s3.amazonaws.com)... 52.216.78.124\n",
      "Connecting to sra-pub-src-1.s3.amazonaws.com (sra-pub-src-1.s3.amazonaws.com)|52.216.78.124|:443... connected.\n",
      "HTTP request sent, awaiting response... 200 OK\n",
      "Length: 2739477612 (2.6G) [application/x-troff-man]\n",
      "Saving to: '/tmp/SRR10971381_1.fastq.gz'\n",
      "\n",
      "/tmp/SRR10971381_1. 100%[===================>]   2.55G  29.4MB/s    in 80s     \n",
      "\n",
      "2020-04-21 12:13:38 (32.5 MB/s) - '/tmp/SRR10971381_1.fastq.gz' saved [2739477612/2739477612]\n",
      "\n",
      "--2020-04-21 12:13:41--  https://sra-pub-src-1.s3.amazonaws.com/SRR10971381/WH_R2.fastq.gz.1\n",
      "Resolving sra-pub-src-1.s3.amazonaws.com (sra-pub-src-1.s3.amazonaws.com)... 52.216.147.140\n",
      "Connecting to sra-pub-src-1.s3.amazonaws.com (sra-pub-src-1.s3.amazonaws.com)|52.216.147.140|:443... connected.\n",
      "HTTP request sent, awaiting response... 200 OK\n",
      "Length: 2838458153 (2.6G) [application/x-troff-man]\n",
      "Saving to: '/tmp/SRR10971381_2.fastq.gz'\n",
      "\n",
      "/tmp/SRR10971381_2. 100%[===================>]   2.64G  30.1MB/s    in 82s     \n",
      "\n",
      "2020-04-21 12:15:03 (32.8 MB/s) - '/tmp/SRR10971381_2.fastq.gz' saved [2838458153/2838458153]\n",
      "\n",
      "CPU times: user 3.05 s, sys: 721 ms, total: 3.77 s\n",
      "Wall time: 2min 46s\n"
     ]
    }
   ],
   "source": [
    "%%time\n",
    "if FETCH_RAW_FASTQ:\n",
    "  ## Download raw fastq from SRA (fast)\n",
    "  !wget -O /tmp/SRR10971381_1.fastq.gz https://sra-pub-src-1.s3.amazonaws.com/SRR10971381/WH_R1.fastq.gz.1\n",
    "  !wget -O /tmp/SRR10971381_2.fastq.gz https://sra-pub-src-1.s3.amazonaws.com/SRR10971381/WH_R2.fastq.gz.1\n",
    "else:\n",
    "  ## Download reads in SRA format and then convert it to fastq (slow)\n",
    "  !wget -O /tmp/SRR10971381 https://sra-download.ncbi.nlm.nih.gov/traces/sra46/SRR/010714/SRR10971381\n",
    "  ## Convert SRA format data to fastq format\n",
    "  !fastq-dump --split-files --gzip -outdir /tmp /tmp/SRR10971381"
   ]
  },
  {
   "cell_type": "markdown",
   "metadata": {},
   "source": [
    "### Sub-sample reads for binder run\n",
    "\n",
    "This is an optional step. We are sub-sampling reads from the raw fastq files to the value specified in the variable __SUBSAMPLE_READ__ to make it work in the Binder"
   ]
  },
  {
   "cell_type": "code",
   "execution_count": 5,
   "metadata": {},
   "outputs": [
    {
     "name": "stdout",
     "output_type": "stream",
     "text": [
      "subsampling reads for sample SRR10971381 R1\n",
      "subsampling reads for sample SRR10971381 R2\n",
      "CPU times: user 9.85 s, sys: 1.7 s, total: 11.5 s\n",
      "Wall time: 10min 29s\n"
     ]
    }
   ],
   "source": [
    "%%time\n",
    "## following step may take some time to run\n",
    "\n",
    "for entry in list_of_samples_data:\n",
    "  if SUBSAMPLE_READ > 0:\n",
    "    sample_name = entry.get('sample_name')\n",
    "    fastq_files = entry.get('fastq_files')\n",
    "    R1_fastq = fastq_files[0]\n",
    "    R2_fastq = fastq_files[1]\n",
    "    R1_sub_fastq = '/tmp/{0}_sub_1.fastq'.format(sample_name)\n",
    "    R2_sub_fastq = '/tmp/{0}_sub_2.fastq'.format(sample_name)\n",
    "    ## running seqtk to subsample files \n",
    "    print('subsampling reads for sample {0} R1'.format(sample_name))\n",
    "    !seqtk sample -2 -s100 $R1_fastq $SUBSAMPLE_READ  > $R1_sub_fastq\n",
    "    print('subsampling reads for sample {0} R2'.format(sample_name))\n",
    "    !seqtk sample -2 -s100 $R2_fastq $SUBSAMPLE_READ > $R2_sub_fastq\n",
    "    entry.update({'subsample_fastq_files':[R1_sub_fastq,R2_sub_fastq]})"
   ]
  },
  {
   "cell_type": "markdown",
   "metadata": {},
   "source": [
    "## Check for viral DNA contamination using Fastv"
   ]
  },
  {
   "cell_type": "markdown",
   "metadata": {},
   "source": [
    "### Fetch required reference genomes and list of unique k-mers"
   ]
  },
  {
   "cell_type": "code",
   "execution_count": 6,
   "metadata": {},
   "outputs": [
    {
     "name": "stdout",
     "output_type": "stream",
     "text": [
      "--2020-04-21 12:25:34--  https://storage.googleapis.com/sars-cov-2/SARS2_153_complete_genomes_20200329.fasta\n",
      "Resolving storage.googleapis.com (storage.googleapis.com)... 108.177.112.128, 2607:f8b0:4001:c07::80\n",
      "Connecting to storage.googleapis.com (storage.googleapis.com)|108.177.112.128|:443... connected.\n",
      "HTTP request sent, awaiting response... 200 OK\n",
      "Length: 4662317 (4.4M) [application/octet-stream]\n",
      "Saving to: '/tmp/SARS2_153_complete_genomes_20200329.fasta'\n",
      "\n",
      "/tmp/SARS2_153_comp 100%[===================>]   4.45M  --.-KB/s    in 0.07s   \n",
      "\n",
      "2020-04-21 12:25:34 (62.2 MB/s) - '/tmp/SARS2_153_complete_genomes_20200329.fasta' saved [4662317/4662317]\n",
      "\n",
      "--2020-04-21 12:25:35--  http://opengene.org/fastv/data/SARS-CoV-2.kmer.fa\n",
      "Resolving opengene.org (opengene.org)... 47.90.42.109\n",
      "Connecting to opengene.org (opengene.org)|47.90.42.109|:80... connected.\n",
      "HTTP request sent, awaiting response... 200 OK\n",
      "Length: 7632 (7.5K) [application/octet-stream]\n",
      "Saving to: '/tmp/SARS-CoV-2.kmer.fa'\n",
      "\n",
      "/tmp/SARS-CoV-2.kme 100%[===================>]   7.45K  --.-KB/s    in 0s      \n",
      "\n",
      "2020-04-21 12:25:35 (886 MB/s) - '/tmp/SARS-CoV-2.kmer.fa' saved [7632/7632]\n",
      "\n"
     ]
    }
   ],
   "source": [
    "## fetch coronavirus genomes\n",
    "\n",
    "!wget -O /tmp/SARS2_153_complete_genomes_20200329.fasta \\\n",
    "  https://storage.googleapis.com/sars-cov-2/SARS2_153_complete_genomes_20200329.fasta\n",
    "\n",
    "## fetch unique kmers for coronavirus\n",
    "\n",
    "!wget -O /tmp/SARS-CoV-2.kmer.fa \\\n",
    "  http://opengene.org/fastv/data/SARS-CoV-2.kmer.fa"
   ]
  },
  {
   "cell_type": "markdown",
   "metadata": {},
   "source": [
    "### Prepare function for fastv run"
   ]
  },
  {
   "cell_type": "code",
   "execution_count": 7,
   "metadata": {},
   "outputs": [],
   "source": [
    "## run fastv function\n",
    "\n",
    "def run_fastv(sample_name,ref_genome,ref_kmers,R1_fastq,R2_fastq,\n",
    "              output_path='fastv_output'):\n",
    "  '''\n",
    "  A function for running fastv tool for a paired-end fastq data\n",
    "  \n",
    "  :param sample_name: Sample name\n",
    "  :param ref_genome: Reference genome fasta file\n",
    "  :param ref_kmers: Reference k-mers fasta file\n",
    "  :param R1_fastq: Path for R1 fastq file\n",
    "  :param R2_fastq: Path for R2 fastq file\n",
    "  :param output_path: Output dir path, default fastv_output in current dir\n",
    "  :returns: fastv_html_output,fastv_json_output,fastv_log_output\n",
    "  '''\n",
    "  try:\n",
    "    output_path = os.path.abspath(output_path)\n",
    "    !mkdir -p $output_path\n",
    "    print('running fastv for sample {0}'.format(sample_name))\n",
    "    fastv_html_output = os.path.join(output_path,'{0}.fastv.html'.format(sample_name))\n",
    "    fastv_json_output = os.path.join(output_path,'{0}.fastv.json'.format(sample_name))\n",
    "    fastv_log_output = os.path.join(output_path,'{0}.fastv.log'.format(sample_name))\n",
    "    !~/bin/fastv \\\n",
    "    -i $R1_fastq \\\n",
    "    -I $R2_fastq \\\n",
    "    -k $ref_kmers \\\n",
    "    -g $ref_genome \\\n",
    "    -h $fastv_html_output \\\n",
    "    -j $fastv_json_output \\\n",
    "    --thread $CPU_THREADS 2> $fastv_log_output\n",
    "    return fastv_html_output,fastv_json_output,fastv_log_output\n",
    "  except Exception as e:\n",
    "    raise ValueError(\n",
    "            'Failed to run fastv for sample {0}, error: {1}'.format(sample_name,e))\n",
    "\n"
   ]
  },
  {
   "cell_type": "markdown",
   "metadata": {},
   "source": [
    "### Run fastv for all samples"
   ]
  },
  {
   "cell_type": "code",
   "execution_count": 8,
   "metadata": {},
   "outputs": [
    {
     "name": "stdout",
     "output_type": "stream",
     "text": [
      "running fastv for sample SRR10971381\n",
      "CPU times: user 2 s, sys: 334 ms, total: 2.33 s\n",
      "Wall time: 2min 19s\n"
     ]
    }
   ],
   "source": [
    "%%time\n",
    "\n",
    "for entry in list_of_samples_data:\n",
    "  sample_name = entry.get('sample_name')\n",
    "  if SUBSAMPLE_READ > 0:\n",
    "    fastq_files = entry.get('subsample_fastq_files')\n",
    "  else:\n",
    "    fastq_files = entry.get('fastq_files')\n",
    "\n",
    "  R1_fastq = fastq_files[0]\n",
    "  R2_fastq = fastq_files[1]\n",
    "  fastv_html_output,fastv_json_output,fastv_log_output =\\\n",
    "    run_fastv(\n",
    "      sample_name=sample_name,\n",
    "      ref_genome='/tmp/SARS2_153_complete_genomes_20200329.fasta',\n",
    "      ref_kmers='/tmp/SARS-CoV-2.kmer.fa',\n",
    "      R1_fastq=R1_fastq,\n",
    "      R2_fastq=R2_fastq)\n",
    "  entry.update(\n",
    "    {'fastv_files':[fastv_html_output,fastv_json_output,fastv_log_output]})"
   ]
  },
  {
   "cell_type": "code",
   "execution_count": 9,
   "metadata": {},
   "outputs": [
    {
     "data": {
      "text/plain": [
       "[{'sample_name': 'SRR10971381',\n",
       "  'fastq_files': ['/tmp/SRR10971381_1.fastq.gz',\n",
       "   '/tmp/SRR10971381_2.fastq.gz'],\n",
       "  'subsample_fastq_files': ['/tmp/SRR10971381_sub_1.fastq',\n",
       "   '/tmp/SRR10971381_sub_2.fastq'],\n",
       "  'fastv_files': ['/home/vmuser/examples/fastv_output/SRR10971381.fastv.html',\n",
       "   '/home/vmuser/examples/fastv_output/SRR10971381.fastv.json',\n",
       "   '/home/vmuser/examples/fastv_output/SRR10971381.fastv.log']}]"
      ]
     },
     "execution_count": 9,
     "metadata": {},
     "output_type": "execute_result"
    }
   ],
   "source": [
    "## now we have the list of output files appended in the sample list\n",
    "\n",
    "list_of_samples_data"
   ]
  },
  {
   "cell_type": "markdown",
   "metadata": {},
   "source": [
    "## De-novo assembly of viral genome using Megahit"
   ]
  },
  {
   "cell_type": "markdown",
   "metadata": {},
   "source": [
    "### Prepare function for Megahit assembly run"
   ]
  },
  {
   "cell_type": "code",
   "execution_count": 10,
   "metadata": {},
   "outputs": [],
   "source": [
    "def run_megahit_assembly(sample_name,R1_fastq,R2_fastq,output_path='megahit_output'):\n",
    "  '''\n",
    "  A function for running megahit de-novo assembly for a paired-end fastq data\n",
    "  \n",
    "  :param sample_name: Sample name\n",
    "  :param R1_fastq: Path for R1 fastq file\n",
    "  :param R2_fastq: Path for R2 fastq file\n",
    "  :param output_path: Output dir path, default megahit_output in current dir\n",
    "  :returns: megahit_assembly,fastg_output\n",
    "  '''\n",
    "  try:\n",
    "    output_path = os.path.abspath(output_path)\n",
    "    !mkdir -p $output_path\n",
    "    output_dir = os.path.join(output_path,'megahit_assembly_{0}'.format(sample_name))\n",
    "    print('running de-novo assembly using megahit for sample {0}'.format(sample_name))\n",
    "    !megahit \\\n",
    "      -1 $R1_fastq \\\n",
    "      -2 $R2_fastq \\\n",
    "      -o $output_dir \\\n",
    "      --k-list $ASSEMBLY_KMERS \\\n",
    "      --num-cpu-threads $CPU_THREADS \\\n",
    "      --memory $MEM_LIMIT_BYTES \\\n",
    "      --tmp-dir /tmp\n",
    "    max_kmer = ASSEMBLY_KMERS.split(',')[-1]\n",
    "    fastg_input = \\\n",
    "      os.path.join(\n",
    "        output_dir,\n",
    "        'intermediate_contigs',\n",
    "        'k{0}.contigs.fa'.format(max_kmer))\n",
    "    fastg_output = os.path.join(output_dir,'{0}_k{1}.fastg'.format(sample_name,max_kmer))\n",
    "    print('converting de-novo assembly to fastg for sample {0}'.format(sample_name))\n",
    "    !megahit_toolkit contig2fastg $max_kmer $fastg_input > $fastg_output\n",
    "    return output_dir,fastg_output\n",
    "  except Exception as e:\n",
    "    raise ValueError(\n",
    "            'Failed to run fastv for sample {0}, error: {1}'.format(sample_name,e))"
   ]
  },
  {
   "cell_type": "markdown",
   "metadata": {},
   "source": [
    "### Run de-novo assembly for all the samples"
   ]
  },
  {
   "cell_type": "code",
   "execution_count": 11,
   "metadata": {},
   "outputs": [
    {
     "name": "stdout",
     "output_type": "stream",
     "text": [
      "running de-novo assembly using megahit for sample SRR10971381\n",
      "2020-04-21 12:27:56 - MEGAHIT v1.2.9\n",
      "2020-04-21 12:27:56 - Using megahit_core with POPCNT and BMI2 support\n",
      "2020-04-21 12:27:56 - Convert reads to binary library\n",
      "2020-04-21 12:28:00 - b'INFO  sequence/io/sequence_lib.cpp  :   77 - Lib 0 (/tmp/SRR10971381_sub_1.fastq,/tmp/SRR10971381_sub_2.fastq): pe, 2000000 reads, 151 max length'\n",
      "2020-04-21 12:28:00 - b'INFO  utils/utils.h                 :  152 - Real: 3.4744\\tuser: 2.2256\\tsys: 1.1238\\tmaxrss: 164380'\n",
      "2020-04-21 12:28:00 - Start assembly. Number of CPU threads 1 \n",
      "2020-04-21 12:28:00 - k list: 27,31 \n",
      "2020-04-21 12:28:00 - Memory used: 2000000000\n",
      "2020-04-21 12:28:00 - Extract solid (k+1)-mers for k = 27 \n",
      "2020-04-21 12:30:02 - Build graph for k = 27 \n",
      "2020-04-21 12:31:32 - Assemble contigs from SdBG for k = 27\n",
      "2020-04-21 12:37:34 - Local assembly for k = 27\n",
      "2020-04-21 12:37:55 - Extract iterative edges from k = 27 to 31 \n",
      "2020-04-21 12:38:22 - Build graph for k = 31 \n",
      "2020-04-21 12:38:49 - Assemble contigs from SdBG for k = 31\n",
      "2020-04-21 12:42:07 - Merging to output final contigs \n",
      "2020-04-21 12:42:07 - 9056 contigs, total 2427140 bp, min 200 bp, max 8614 bp, avg 268 bp, N50 253 bp\n",
      "2020-04-21 12:42:08 - ALL DONE. Time elapsed: 851.511862 seconds \n",
      "converting de-novo assembly to fastg for sample SRR10971381\n",
      "CPU times: user 13.2 s, sys: 2 s, total: 15.3 s\n",
      "Wall time: 14min 17s\n"
     ]
    }
   ],
   "source": [
    "%%time\n",
    "\n",
    "## following step may take upto 20 min\n",
    "\n",
    "if RUN_ASSEMBLY > 0:\n",
    "  for entry in list_of_samples_data:\n",
    "    sample_name = entry.get('sample_name')\n",
    "    if SUBSAMPLE_READ > 0:\n",
    "      fastq_files = entry.get('subsample_fastq_files')\n",
    "    else:\n",
    "      fastq_files = entry.get('fastq_files')\n",
    "\n",
    "    R1_fastq = fastq_files[0]\n",
    "    R2_fastq = fastq_files[1]\n",
    "    megahit_output_dir,fastg_output = \\\n",
    "      run_megahit_assembly(\n",
    "        sample_name=sample_name,\n",
    "        R1_fastq=R1_fastq,\n",
    "        R2_fastq=R2_fastq)\n",
    "    entry.update({'megahit_output_dir':megahit_output_dir,'megahit_fastg':fastg_output})"
   ]
  },
  {
   "cell_type": "code",
   "execution_count": 12,
   "metadata": {},
   "outputs": [
    {
     "data": {
      "text/plain": [
       "[{'sample_name': 'SRR10971381',\n",
       "  'fastq_files': ['/tmp/SRR10971381_1.fastq.gz',\n",
       "   '/tmp/SRR10971381_2.fastq.gz'],\n",
       "  'subsample_fastq_files': ['/tmp/SRR10971381_sub_1.fastq',\n",
       "   '/tmp/SRR10971381_sub_2.fastq'],\n",
       "  'fastv_files': ['/home/vmuser/examples/fastv_output/SRR10971381.fastv.html',\n",
       "   '/home/vmuser/examples/fastv_output/SRR10971381.fastv.json',\n",
       "   '/home/vmuser/examples/fastv_output/SRR10971381.fastv.log'],\n",
       "  'megahit_output_dir': '/home/vmuser/examples/megahit_output/megahit_assembly_SRR10971381',\n",
       "  'megahit_fastg': '/home/vmuser/examples/megahit_output/megahit_assembly_SRR10971381/SRR10971381_k31.fastg'}]"
      ]
     },
     "execution_count": 12,
     "metadata": {},
     "output_type": "execute_result"
    }
   ],
   "source": [
    "## now we have the list of assembly output files present in the sample list\n",
    "\n",
    "list_of_samples_data"
   ]
  },
  {
   "cell_type": "markdown",
   "metadata": {},
   "source": [
    "## Map raw reads on reference genome"
   ]
  },
  {
   "cell_type": "markdown",
   "metadata": {},
   "source": [
    "### Prepare function for reference genome fetching"
   ]
  },
  {
   "cell_type": "code",
   "execution_count": 13,
   "metadata": {},
   "outputs": [],
   "source": [
    "def fetch_genome_fasta_from_ncbi(refseq_id,output_path='.',file_format='fasta'):\n",
    "  '''\n",
    "  A function for fetching the genome fasta sequences from NCBI\n",
    "  \n",
    "  :param refseq_id: NCBI genome id\n",
    "  :param output_path: Path to dump genome files, default '.'\n",
    "  :param file_format: Output file format, default fasta, supported formats are 'fasta' and 'gb'\n",
    "  :returns: output_file\n",
    "  '''\n",
    "  try:\n",
    "    output_path = os.path.abspath(output_path)\n",
    "    !mkdir -p $output_path\n",
    "    url = \\\n",
    "      'https://eutils.ncbi.nlm.nih.gov/entrez/eutils/efetch.fcgi?db=nucleotide&id={0}&rettype={1}'.\\\n",
    "        format(refseq_id,file_format)\n",
    "    r = requests.get(url)\n",
    "    if r.status_code != 200:\n",
    "      raise ValueError('Failed to download file for {0}, http status code {1}'.format(refseq_id,r.status_code))\n",
    "    data = r.content.decode('utf-8')\n",
    "    output_file = \\\n",
    "      os.path.join(\n",
    "        os.path.abspath(output_path),\n",
    "        '{0}.{1}'.format(refseq_id,file_format))\n",
    "    with open(output_file,'w') as fp:\n",
    "      fp.write(data)\n",
    "    print('Downloaded genome seq for {0}'.format(refseq_id))\n",
    "    return output_file\n",
    "  except Exception as e:\n",
    "    raise ValueError('Failed to download data for {0} from NCBI, error: {1}'.format(refseq_id,e))"
   ]
  },
  {
   "cell_type": "code",
   "execution_count": 14,
   "metadata": {},
   "outputs": [
    {
     "name": "stdout",
     "output_type": "stream",
     "text": [
      "Downloaded genome seq for NC_045512.2\n"
     ]
    },
    {
     "data": {
      "text/plain": [
       "'/home/vmuser/examples/ref_genome/NC_045512.2.fasta'"
      ]
     },
     "execution_count": 14,
     "metadata": {},
     "output_type": "execute_result"
    }
   ],
   "source": [
    "reference_fastq = fetch_genome_fasta_from_ncbi(REFERENCE_fasta,output_path='ref_genome')\n",
    "reference_fastq"
   ]
  },
  {
   "cell_type": "markdown",
   "metadata": {},
   "source": [
    "### Build Bowtie2 index for reference genome"
   ]
  },
  {
   "cell_type": "code",
   "execution_count": 15,
   "metadata": {},
   "outputs": [
    {
     "name": "stdout",
     "output_type": "stream",
     "text": [
      "Building a SMALL index\n"
     ]
    }
   ],
   "source": [
    "## create reference index dir\n",
    "\n",
    "!mkdir -p bowtie2_ref\n",
    "\n",
    "bowtie2_ref = os.path.abspath('bowtie2_ref/NC_045512.2')\n",
    "## Build Bowtie2 index for reference genome\n",
    "\n",
    "!bowtie2-build \\\n",
    "  $reference_fastq \\\n",
    "  $bowtie2_ref > bowtie2_build.log"
   ]
  },
  {
   "cell_type": "markdown",
   "metadata": {},
   "source": [
    "### Prepare function for bowtie2 mapping"
   ]
  },
  {
   "cell_type": "code",
   "execution_count": 16,
   "metadata": {},
   "outputs": [],
   "source": [
    "def run_bowtie2_mapping(sample_name,bowtie2_index,R1_fastq,R2_fastq,output_path='bowtie2_output'):\n",
    "  '''\n",
    "  A function for running bowtie2 mapping for a paired-end fastq data\n",
    "  \n",
    "  :param sample_name: Sample name\n",
    "  :param bowtie2_index: Bowtie index path\n",
    "  :param R1_fastq: Path for R1 fastq file\n",
    "  :param R2_fastq: Path for R2 fastq file\n",
    "  :param output_path: Output dir path, default bowtie2_output in current dir\n",
    "  :returns: bowtie2 alignment in sam\n",
    "  '''\n",
    "  try:\n",
    "    output_path = os.path.abspath(output_path)\n",
    "    !mkdir -p $output_path\n",
    "    output_sam = os.path.join(output_path,'alignment_{0}.sam'.format(sample_name))\n",
    "    !bowtie2 \\\n",
    "      -x $bowtie2_index \\\n",
    "      --very-fast  \\\n",
    "      -1 $R1_fastq \\\n",
    "      -2 $R2_fastq \\\n",
    "      --threads $CPU_THREADS \\\n",
    "      -S  $output_sam\n",
    "    return output_sam\n",
    "  except Exception as e:\n",
    "    raise ValueError(\n",
    "            'Failed to run bowtie2 for sample {0}, error: {1}'.format(sample_name,e))"
   ]
  },
  {
   "cell_type": "markdown",
   "metadata": {},
   "source": [
    "### Run bowtie2 mapping for all the samples"
   ]
  },
  {
   "cell_type": "code",
   "execution_count": 17,
   "metadata": {},
   "outputs": [
    {
     "name": "stdout",
     "output_type": "stream",
     "text": [
      "28282964 reads; of these:\n",
      "  28282964 (100.00%) were paired; of these:\n",
      "    28224324 (99.79%) aligned concordantly 0 times\n",
      "    58640 (0.21%) aligned concordantly exactly 1 time\n",
      "    0 (0.00%) aligned concordantly >1 times\n",
      "    ----\n",
      "    28224324 pairs aligned concordantly 0 times; of these:\n",
      "      1870 (0.01%) aligned discordantly 1 time\n",
      "    ----\n",
      "    28222454 pairs aligned 0 times concordantly or discordantly; of these:\n",
      "      56444908 mates make up the pairs; of these:\n",
      "        56443948 (100.00%) aligned 0 times\n",
      "        960 (0.00%) aligned exactly 1 time\n",
      "        0 (0.00%) aligned >1 times\n",
      "0.22% overall alignment rate\n",
      "CPU times: user 18 s, sys: 2.95 s, total: 21 s\n",
      "Wall time: 21min 33s\n"
     ]
    }
   ],
   "source": [
    "%%time\n",
    "\n",
    "## following step may take upto 30 min (per sample)\n",
    "for entry in list_of_samples_data:\n",
    "  sample_name = entry.get('sample_name')\n",
    "  fastq_files = entry.get('fastq_files')\n",
    "  R1_fastq = fastq_files[0]\n",
    "  R2_fastq = fastq_files[1]\n",
    "  output_sam = \\\n",
    "    run_bowtie2_mapping(\n",
    "      sample_name=sample_name,\n",
    "      bowtie2_index=bowtie2_ref,\n",
    "      R1_fastq=R1_fastq,\n",
    "      R2_fastq=R2_fastq)\n",
    "  entry.update({'bowtie2_sam':output_sam})"
   ]
  },
  {
   "cell_type": "code",
   "execution_count": 18,
   "metadata": {},
   "outputs": [
    {
     "data": {
      "text/plain": [
       "[{'sample_name': 'SRR10971381',\n",
       "  'fastq_files': ['/tmp/SRR10971381_1.fastq.gz',\n",
       "   '/tmp/SRR10971381_2.fastq.gz'],\n",
       "  'subsample_fastq_files': ['/tmp/SRR10971381_sub_1.fastq',\n",
       "   '/tmp/SRR10971381_sub_2.fastq'],\n",
       "  'fastv_files': ['/home/vmuser/examples/fastv_output/SRR10971381.fastv.html',\n",
       "   '/home/vmuser/examples/fastv_output/SRR10971381.fastv.json',\n",
       "   '/home/vmuser/examples/fastv_output/SRR10971381.fastv.log'],\n",
       "  'megahit_output_dir': '/home/vmuser/examples/megahit_output/megahit_assembly_SRR10971381',\n",
       "  'megahit_fastg': '/home/vmuser/examples/megahit_output/megahit_assembly_SRR10971381/SRR10971381_k31.fastg',\n",
       "  'bowtie2_sam': '/home/vmuser/examples/bowtie2_output/alignment_SRR10971381.sam'}]"
      ]
     },
     "execution_count": 18,
     "metadata": {},
     "output_type": "execute_result"
    }
   ],
   "source": [
    "## now we have the list of bowtie2 output files present in the sample list\n",
    "\n",
    "list_of_samples_data"
   ]
  },
  {
   "cell_type": "markdown",
   "metadata": {},
   "source": [
    "## Consensus genome building from mapped reads"
   ]
  },
  {
   "cell_type": "markdown",
   "metadata": {},
   "source": [
    "### Prepare function for consensus fasta building"
   ]
  },
  {
   "cell_type": "code",
   "execution_count": 19,
   "metadata": {},
   "outputs": [],
   "source": [
    "def aln_to_consensus_fasta(sample_name,sam_file,reference_fasta,output_path='samtools_dir'):\n",
    "  '''\n",
    "  A function for aligned sam file to consensus fasta generation\n",
    "  \n",
    "  :param sample_name: Sample name\n",
    "  :param sam_file: sam format alignment file\n",
    "  :param reference_fasta: reference fasta file\n",
    "  :param output_path: Output dir path, default samtools_dir\n",
    "  :returns: sorted_bam_file,flagstat_file,bcftools_call,consensus_fasta\n",
    "  '''\n",
    "  try:\n",
    "    output_path = os.path.abspath(output_path)\n",
    "    !mkdir -p $output_path\n",
    "    bam_file = os.path.join('/tmp','{0}_raw.bam'.format(sample_name))\n",
    "    sorted_bam_file = os.path.join(output_path,'{0}_sorted.bam'.format(sample_name))\n",
    "    flagstat_file = os.path.join(output_path,'{0}_sorted.flagstat'.format(sample_name))\n",
    "    bcftools_call = os.path.join(output_path,'{0}_calls.vcf.gz'.format(sample_name))\n",
    "    consensus_fasta = os.path.join(output_path,'{0}_consensus.fasta'.format(sample_name))\n",
    "    !samtools view -q 5 -bo $bam_file $sam_file\n",
    "    !samtools sort $bam_file > $sorted_bam_file\n",
    "    !samtools index $sorted_bam_file\n",
    "    !samtools flagstat $sorted_bam_file > $flagstat_file\n",
    "    !bcftools mpileup -f $reference_fasta $sorted_bam_file | bcftools call --ploidy 1  -mv -Oz -o $bcftools_call\n",
    "    !bcftools index $bcftools_call\n",
    "    !cat $reference_fasta | bcftools consensus $bcftools_call > $consensus_fasta\n",
    "    return sorted_bam_file,flagstat_file,bcftools_call,consensus_fasta\n",
    "  except Exception as e:\n",
    "    raise ValueError(\n",
    "            'Failed to run consensus fasta generation for sample {0}, error: {1}'.format(sample_name,e))"
   ]
  },
  {
   "cell_type": "markdown",
   "metadata": {},
   "source": [
    "### Run consensus fasta building for all samples"
   ]
  },
  {
   "cell_type": "code",
   "execution_count": 20,
   "metadata": {},
   "outputs": [
    {
     "name": "stdout",
     "output_type": "stream",
     "text": [
      "[mpileup] 1 samples in 1 input files\n",
      "[mpileup] maximum number of reads per input file set to -d 250\n",
      "Note: the --sample option not given, applying all records regardless of the genotype\n",
      "The site NC_045512.2:3 overlaps with another variant, skipping...\n",
      "The site NC_045512.2:4 overlaps with another variant, skipping...\n",
      "Applied 1 variants\n",
      "CPU times: user 6.94 s, sys: 1.19 s, total: 8.13 s\n",
      "Wall time: 8min 14s\n"
     ]
    }
   ],
   "source": [
    "%%time\n",
    "\n",
    "## following step may take upto 30 min (per sample)\n",
    "for entry in list_of_samples_data:\n",
    "  sample_name = entry.get('sample_name')\n",
    "  bowtie2_sam = entry.get('bowtie2_sam')\n",
    "  sorted_bam_file,flagstat_file,bcftools_call,consensus_fasta = \\\n",
    "    aln_to_consensus_fasta(\n",
    "      sample_name=sample_name,\n",
    "      sam_file=bowtie2_sam,\n",
    "      reference_fasta='/home/vmuser/examples/ref_genome/NC_045512.2.fasta')\n",
    "  entry.update({\n",
    "    'bowtie2_sorted_aln':sorted_bam_file,\n",
    "    'flagstat_file':flagstat_file,\n",
    "    'bcftools_call':bcftools_call,\n",
    "    'consensus_fasta':consensus_fasta})"
   ]
  },
  {
   "cell_type": "code",
   "execution_count": 21,
   "metadata": {},
   "outputs": [
    {
     "data": {
      "text/plain": [
       "[{'sample_name': 'SRR10971381',\n",
       "  'fastq_files': ['/tmp/SRR10971381_1.fastq.gz',\n",
       "   '/tmp/SRR10971381_2.fastq.gz'],\n",
       "  'subsample_fastq_files': ['/tmp/SRR10971381_sub_1.fastq',\n",
       "   '/tmp/SRR10971381_sub_2.fastq'],\n",
       "  'fastv_files': ['/home/vmuser/examples/fastv_output/SRR10971381.fastv.html',\n",
       "   '/home/vmuser/examples/fastv_output/SRR10971381.fastv.json',\n",
       "   '/home/vmuser/examples/fastv_output/SRR10971381.fastv.log'],\n",
       "  'megahit_output_dir': '/home/vmuser/examples/megahit_output/megahit_assembly_SRR10971381',\n",
       "  'megahit_fastg': '/home/vmuser/examples/megahit_output/megahit_assembly_SRR10971381/SRR10971381_k31.fastg',\n",
       "  'bowtie2_sam': '/home/vmuser/examples/bowtie2_output/alignment_SRR10971381.sam',\n",
       "  'bowtie2_sorted_aln': '/home/vmuser/examples/samtools_dir/SRR10971381_sorted.bam',\n",
       "  'flagstat_file': '/home/vmuser/examples/samtools_dir/SRR10971381_sorted.flagstat',\n",
       "  'bcftools_call': '/home/vmuser/examples/samtools_dir/SRR10971381_calls.vcf.gz',\n",
       "  'consensus_fasta': '/home/vmuser/examples/samtools_dir/SRR10971381_consensus.fasta'}]"
      ]
     },
     "execution_count": 21,
     "metadata": {},
     "output_type": "execute_result"
    }
   ],
   "source": [
    "## now we have the list of consensus fasta output files present in the sample list\n",
    "\n",
    "list_of_samples_data"
   ]
  },
  {
   "cell_type": "code",
   "execution_count": null,
   "metadata": {},
   "outputs": [],
   "source": []
  }
 ],
 "metadata": {
  "kernelspec": {
   "display_name": "Python 3",
   "language": "python",
   "name": "python3"
  },
  "language_info": {
   "codemirror_mode": {
    "name": "ipython",
    "version": 3
   },
   "file_extension": ".py",
   "mimetype": "text/x-python",
   "name": "python",
   "nbconvert_exporter": "python",
   "pygments_lexer": "ipython3",
   "version": "3.6.9"
  }
 },
 "nbformat": 4,
 "nbformat_minor": 4
}
