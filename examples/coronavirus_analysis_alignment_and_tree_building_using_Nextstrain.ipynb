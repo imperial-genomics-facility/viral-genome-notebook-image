{
 "cells": [
  {
   "cell_type": "markdown",
   "metadata": {},
   "source": [
    "# Alignment and tree building using Nextstrain\n",
    "\n",
    "[![Binder](https://mybinder.org/badge_logo.svg)](https://mybinder.org/v2/gh/imperial-genomics-facility/viral-genome-notebook-image/master?urlpath=lab%2Ftree%2Fexamples%2Fcoronavirus_analysis_alignment_and_tree_building_using_Nextstrain.ipynb)\n",
    "\n",
    "* __Notebook version__: `v0.0.1`\n",
    "* __Created by:__ [Dr. Hiren Ghosh](https://www.linkedin.com/in/hiren-ghosh-phd-6181853a), `Imperial BRC Genomics Facility`\n",
    "* __Maintained by:__ `Imperial BRC Genomics Facility`\n",
    "* __Docker image:__ [imperialgenomicsfacility/viral-genome-analysis-notebooks](https://hub.docker.com/r/imperialgenomicsfacility/viral-genome-analysis-notebooks)\n",
    "* __Github repository:__ [imperial-genomics-facility/viral-genome-notebook-image](https://github.com/imperial-genomics-facility/viral-genome-notebook-image)\n",
    "* __Created on:__ `2020-April-21 14:42`\n",
    "* __Contact us:__ [Imperial BRC Genomics Facility](https://www.imperial.ac.uk/medicine/research-and-impact/facilities/genomics-facility/contact/)\n",
    "* __License:__ [Apache License 2.0](https://github.com/imperial-genomics-facility/scanpy-notebook-image/blob/master/LICENSE)\n",
    "\n",
    "## Introduction\n",
    "\n",
    "[Nextstrain](https://nextstrain.org/docs/getting-started/introduction) is an open-source project to harness the scientific and public health potential of pathogen genome data. Real time tracking of pathogen evolution data and visualization is provided by [nextstrain.org](https://nextstrain.org/). For example, the real time tracking of genomic data for COVID-19 pandemic can be found here: [nextstrain.org/ncov/global](https://nextstrain.org/ncov/global). This notebook will focus on using the bioinformatics toolkits provided by [Nextstrain](https://nextstrain.org/docs/getting-started/introduction) and setting up a docker based local [Nextstrain](https://nextstrain.org/docs/getting-started/introduction) server for output visualization."
   ]
  },
  {
   "cell_type": "markdown",
   "metadata": {},
   "source": [
    "## Configure notebook for run"
   ]
  },
  {
   "cell_type": "code",
   "execution_count": 1,
   "metadata": {},
   "outputs": [],
   "source": [
    "CPU_THREADS = 1"
   ]
  },
  {
   "cell_type": "markdown",
   "metadata": {},
   "source": [
    "## Load required python libraries"
   ]
  },
  {
   "cell_type": "code",
   "execution_count": 2,
   "metadata": {},
   "outputs": [],
   "source": [
    "import os,requests,json,time\n",
    "import pandas as pd"
   ]
  },
  {
   "cell_type": "markdown",
   "metadata": {},
   "source": [
    "## Fetch genome sequences"
   ]
  },
  {
   "cell_type": "code",
   "execution_count": 3,
   "metadata": {},
   "outputs": [],
   "source": [
    "def fetch_genome_fasta_from_ncbi(refseq_id,output_path='.',file_format='fasta'):\n",
    "  '''\n",
    "  A function for fetching the genome fasta sequences from NCBI\n",
    "  \n",
    "  :param refseq_id: NCBI genome id\n",
    "  :param output_path: Path to dump genome files, default '.'\n",
    "  :param file_format: Output fileformat, default fasta, supported formats are 'fasta' and 'gb'\n",
    "  :return: output_file\n",
    "  '''\n",
    "  try:\n",
    "    url = \\\n",
    "      'https://eutils.ncbi.nlm.nih.gov/entrez/eutils/efetch.fcgi?db=nucleotide&id={0}&rettype={1}'.\\\n",
    "        format(refseq_id,file_format)\n",
    "    r = requests.get(url)\n",
    "    if r.status_code != 200:\n",
    "      raise ValueError(\n",
    "              'Failed to download data from NCBI for id {0}, error code: {1}'.\\\n",
    "                format(refseq_id,r.status_code))\n",
    "    fasta_data = r.content.decode('utf-8')\n",
    "    output_file = \\\n",
    "      os.path.join(\n",
    "        os.path.abspath(output_path),\n",
    "        '{0}.{1}'.format(refseq_id,file_format))\n",
    "    with open(output_file,'w') as fp:\n",
    "      fp.write(fasta_data)\n",
    "    print('Downloaded genome seq for {0}'.format(refseq_id))\n",
    "    return output_file\n",
    "  except Exception as e:\n",
    "    print('Failed to download data for {0} from NCBI, error: {1}'.format(refseq_id,e))"
   ]
  },
  {
   "cell_type": "code",
   "execution_count": 4,
   "metadata": {},
   "outputs": [],
   "source": [
    "genome_list = [\n",
    "    'MN988668.1',\n",
    "    'MN938384.1',\n",
    "    'MN975262.1',\n",
    "    'MN985325.1',\n",
    "    'MN988713.1',\n",
    "    'MN994467.1',\n",
    "    'MN994468.1',\n",
    "    'MN997409.1'\n",
    "]"
   ]
  },
  {
   "cell_type": "code",
   "execution_count": 5,
   "metadata": {},
   "outputs": [
    {
     "name": "stdout",
     "output_type": "stream",
     "text": [
      "Downloaded genome seq for MN988668.1\n",
      "Downloaded genome seq for MN938384.1\n",
      "Downloaded genome seq for MN975262.1\n",
      "Downloaded genome seq for MN985325.1\n",
      "Downloaded genome seq for MN988713.1\n",
      "Downloaded genome seq for MN994467.1\n",
      "Downloaded genome seq for MN994468.1\n",
      "Downloaded genome seq for MN997409.1\n"
     ]
    },
    {
     "data": {
      "text/plain": [
       "['/tmp/MN988668.1.fasta',\n",
       " '/tmp/MN938384.1.fasta',\n",
       " '/tmp/MN975262.1.fasta',\n",
       " '/tmp/MN985325.1.fasta',\n",
       " '/tmp/MN988713.1.fasta',\n",
       " '/tmp/MN994467.1.fasta',\n",
       " '/tmp/MN994468.1.fasta',\n",
       " '/tmp/MN997409.1.fasta']"
      ]
     },
     "execution_count": 5,
     "metadata": {},
     "output_type": "execute_result"
    }
   ],
   "source": [
    "fasta_list = []\n",
    "for id in genome_list:\n",
    "  fasta_list.\\\n",
    "    append(\n",
    "      fetch_genome_fasta_from_ncbi(\n",
    "        refseq_id=id,\n",
    "        output_path='/tmp'))\n",
    "  time.sleep(2)\n",
    "fasta_list"
   ]
  },
  {
   "cell_type": "code",
   "execution_count": 6,
   "metadata": {},
   "outputs": [
    {
     "name": "stdout",
     "output_type": "stream",
     "text": [
      "Downloaded genome seq for NC_045512.2\n"
     ]
    },
    {
     "data": {
      "text/plain": [
       "'/tmp/NC_045512.2.gb'"
      ]
     },
     "execution_count": 6,
     "metadata": {},
     "output_type": "execute_result"
    }
   ],
   "source": [
    "reference_gb = \\\n",
    "  fetch_genome_fasta_from_ncbi(\n",
    "    'NC_045512.2',\n",
    "    file_format='gb',\n",
    "    output_path='/tmp')\n",
    "reference_gb"
   ]
  },
  {
   "cell_type": "code",
   "execution_count": 7,
   "metadata": {},
   "outputs": [
    {
     "name": "stdout",
     "output_type": "stream",
     "text": [
      "8\n"
     ]
    }
   ],
   "source": [
    "MERGED_FASTA = '/tmp/corona_merged.fasta'\n",
    "!rm -f $MERGED_FASTA\n",
    "for f in fasta_list:\n",
    "  !cat $f >> $MERGED_FASTA\n",
    "\n",
    "## count the genome sequences in the merged fasta file\n",
    "!grep '>' $MERGED_FASTA|wc -l"
   ]
  },
  {
   "cell_type": "markdown",
   "metadata": {},
   "source": [
    "## Multiple sequence alignment and tree building"
   ]
  },
  {
   "cell_type": "code",
   "execution_count": 8,
   "metadata": {},
   "outputs": [
    {
     "name": "stdout",
     "output_type": "stream",
     "text": [
      "\n",
      "using mafft to align via:\n",
      "\tmafft --reorder --anysymbol --nomemsave --adjustdirection --thread 1 /tmp/corona_merged.afa.to_align.fasta 1> /tmp/corona_merged.afa 2> /tmp/corona_merged.afa.log \n",
      "\n",
      "\tKatoh et al, Nucleic Acid Research, vol 30, issue 14\n",
      "\thttps://doi.org/10.1093%2Fnar%2Fgkf436\n",
      "\n",
      "No gaps in alignment to trim (with respect to the reference, NC_045512.2)\n"
     ]
    }
   ],
   "source": [
    "ALIGNED_FASTA = '/tmp/corona_merged.afa'\n",
    "!augur align \\\n",
    "  --sequences $MERGED_FASTA \\\n",
    "  --reference-sequence $reference_gb \\\n",
    "  --nthreads $CPU_THREADS \\\n",
    "  --output $ALIGNED_FASTA \\\n",
    "  --fill-gaps"
   ]
  },
  {
   "cell_type": "code",
   "execution_count": 9,
   "metadata": {},
   "outputs": [
    {
     "name": "stdout",
     "output_type": "stream",
     "text": [
      "Cannot specify model unless using IQTree. Model specification ignored.\n",
      "Building a tree via:\n",
      "\tFastTreeMP -nosupport -nt /tmp/corona_merged.afa  1> /tmp/corona_raw.tree 2> /tmp/corona_raw.tree.log\n",
      "\tPrice et al: FastTree 2 - Approximately Maximum-Likelihood Trees for Large Alignments.\n",
      "\tPLoS ONE 5(3): e9490. https://doi.org/10.1371/journal.pone.0009490\n",
      "\n",
      "\n",
      "Building original tree took 1.8078341484069824 seconds\n"
     ]
    }
   ],
   "source": [
    "RAW_TREE = '/tmp/corona_raw.tree'\n",
    "!augur tree \\\n",
    "  --alignment $ALIGNED_FASTA \\\n",
    "  --method fasttree \\\n",
    "  --output $RAW_TREE \\\n",
    "  --nthreads $CPU_THREADS"
   ]
  },
  {
   "cell_type": "markdown",
   "metadata": {},
   "source": [
    "## Metadata configs for Nextstrain"
   ]
  },
  {
   "cell_type": "code",
   "execution_count": 10,
   "metadata": {},
   "outputs": [],
   "source": [
    "metadata = [{\n",
    "  'strain':'NC_045512.2',\n",
    "  'virus':'SARS-CoV-2',\n",
    "  'accession':'NC_045512',\n",
    "  'date':'2020-03-30',\n",
    "  'region':'China',\n",
    "  'country':'China',\n",
    "  'division':'China',\n",
    "  'city':'Wuhan',\n",
    "  'db':'genbank',\n",
    "  'segment':'genome',\n",
    "  'authors':'Baranov,P.V., Henderson,C.M., Anderson,C.B., Gesteland,R.F.,Atkins,J.F. and Howard,M.T.',\n",
    "  'url':'https://www.ncbi.nlm.nih.gov/nuccore/NC_045512.2',\n",
    "  'title':'Programmed ribosomal frameshifting in decoding the SARS-CoV genome',\n",
    "  'journal':'Virology 332 (2), 498-510 (2005)',\n",
    "  'paper_url':'https://www.ncbi.nlm.nih.gov/pubmed/15680415'\n",
    "  },\n",
    "  {\n",
    "  'strain':'MN988668.1',\n",
    "  'virus':'SARS-CoV-2',\n",
    "  'accession':'MN988668',\n",
    "  'date':'2020-03-11',\n",
    "  'region':'China',\n",
    "  'country':'China',\n",
    "  'division':'China',\n",
    "  'city':'Wuhan',\n",
    "  'db':'genbank',\n",
    "  'segment':'genome',\n",
    "  'authors':'Chen,L., Liu,W., Zhang,Q., Xu,K., Ye,G., Wu,W., Sun,Z., Liu,F.,Wu,K., Mei,Y., Zhang,W., Chen,Y., Li,Y., Shi,M., Lan,K. and Liu,Y.',\n",
    "  'url':'https://www.ncbi.nlm.nih.gov/nuccore/MN988668.1',\n",
    "  'title':'RNA based mNGS approach identifies a novel human coronavirus from two individual pneumonia cases in 2019 Wuhan outbreak',\n",
    "  'journal':'Emerg Microbes Infect (2019) In press',\n",
    "  'paper_url':''\n",
    "  },\n",
    "  {\n",
    "  'strain':'MN938384.1',\n",
    "  'virus':'SARS-CoV-2',\n",
    "  'accession':'MN938384',\n",
    "  'date':'2020-02-11',\n",
    "  'region':'China',\n",
    "  'country':'China',\n",
    "  'division':'China',\n",
    "  'city':'Shenzhen',\n",
    "  'db':'genbank',\n",
    "  'segment':'genome',\n",
    "  'authors':\"\"\"Chan,J.F.-W., Yuan,S., Kok,K.H., To,K.K.-W., Chu,H., Yang,J.,\n",
    "            Xing,F., Liu,J., Yip,C.C.-Y., Poon,R.W.-S., Tsai,H.W., Lo,S.K.-F.,\n",
    "            Chan,K.H., Poon,V.K.-M., Chan,W.M., Ip,J.D., Cai,J.P.,\n",
    "            Cheng,V.C.-C., Chen,H., Hui,C.K.-M. and Yuen,K.Y.\"\"\",\n",
    "  'url':'https://www.ncbi.nlm.nih.gov/nuccore/MN938384.1',\n",
    "  'title':'A familial cluster of pneumonia associated with the 2019 novel coronavirus indicating person-to-person transmission: a study of a family cluster',\n",
    "  'journal':'Lancet (2020) In press',\n",
    "  'paper_url':''\n",
    "  },\n",
    "  {\n",
    "  'strain':'MN975262.1',\n",
    "  'virus':'SARS-CoV-2',\n",
    "  'accession':'MN975262',\n",
    "  'date':'2020-02-11',\n",
    "  'region':'China',\n",
    "  'country':'China',\n",
    "  'division':'China',\n",
    "  'city':'Shenzhen',\n",
    "  'db':'genbank',\n",
    "  'segment':'genome',\n",
    "  'authors':\"\"\"Chan,J.F.-W., Yuan,S., Kok,K.H., To,K.K.-W., Chu,H., Yang,J.,\n",
    "            Xing,F., Liu,J., Yip,C.C.-Y., Poon,R.W.-S., Tsai,H.W., Lo,S.K.-F.,\n",
    "            Chan,K.H., Poon,V.K.-M., Chan,W.M., Ip,J.D., Cai,J.P.,\n",
    "            Cheng,V.C.-C., Chen,H., Hui,C.K.-M. and Yuen,K.Y.\"\"\",\n",
    "  'url':'https://www.ncbi.nlm.nih.gov/nuccore/MN975262.1',\n",
    "  'title':\"\"\"A familial cluster of pneumonia associated with the 2019 novel\n",
    "            coronavirus indicating person-to-person transmission: a study of a\n",
    "            family cluster\"\"\",\n",
    "  'journal':'Lancet (2020) In press',\n",
    "  'paper_url':''\n",
    "  },\n",
    "  {\n",
    "  'strain':'MN985325.1',\n",
    "  'virus':'SARS-CoV-2',\n",
    "  'accession':'MN985325',\n",
    "  'date':'2020-03-27',\n",
    "  'region':'USA',\n",
    "  'country':'USA',\n",
    "  'division':'USA',\n",
    "  'city':'Atlanta',\n",
    "  'db':'genbank',\n",
    "  'segment':'genome',\n",
    "  'authors':\"\"\"Harcourt,J., Tamin,A., Lu,X., Kamili,S., Sakthivel,S.K., Murray,J.,\n",
    "            Queen,K., Tao,Y., Paden,C.R., Zhang,J., Li,Y., Uehara,A., Wang,H.,\n",
    "            Goldsmith,C., Bullock,H.A., Wang,L., Whitaker,B., Lynch,B.,\n",
    "            Gautam,R., Schindewolf,C., Lokugamage,K.G., Scharton,D.,\n",
    "            Plante,J.A., Mirchandani,D., Widen,S.G., Narayanan,K., Makino,S.,\n",
    "            Ksiazek,T.G., Plante,K.S., Weaver,S.C., Lindstrom,S., Tong,S.,\n",
    "            Menachery,V.D. and Thornburg,N.J.\"\"\",\n",
    "  'url':'https://www.ncbi.nlm.nih.gov/nuccore/MN985325.1',\n",
    "  'title':\"\"\"Severe Acute Respiratory Syndrome Coronavirus 2 from Patient with\n",
    "            2019 Novel Coronavirus Disease, United States\"\"\",\n",
    "  'journal':'Emerging Infect. Dis. 26 (6) (2020) In press',\n",
    "  'paper_url':''\n",
    "  },\n",
    "  {\n",
    "  'strain':'MN988713.1',\n",
    "  'virus':'SARS-CoV-2',\n",
    "  'accession':'MN988713',\n",
    "  'date':'2020-02-11',\n",
    "  'region':'USA',\n",
    "  'country':'USA',\n",
    "  'division':'USA',\n",
    "  'city':'Illinois',\n",
    "  'db':'genbank',\n",
    "  'segment':'genome',\n",
    "  'authors':\"\"\"Tao,Y., Queen,K., Paden,C.R., Zhang,J., Li,Y., Uehara,A., Lu,X.,\n",
    "            Lynch,B., Sakthivel,S.K.K., Whitaker,B.L., Kamili,S., Wang,L.,\n",
    "            Murray,J.R., Gerber,S.I., Lindstrom,S. and Tong,S.\"\"\",\n",
    "  'url':'https://www.ncbi.nlm.nih.gov/nuccore/MN988713.1',\n",
    "  'title':'Novel betacoronavirus, Illinois',\n",
    "  'journal':'',\n",
    "  'paper_url':''\n",
    "  },\n",
    "  {\n",
    "  'strain':'MN994467.1',\n",
    "  'virus':'SARS-CoV-2',\n",
    "  'accession':'MN994467',\n",
    "  'date':'2020-02-11',\n",
    "  'region':'USA',\n",
    "  'country':'USA',\n",
    "  'division':'USA',\n",
    "  'city':'California',\n",
    "  'db':'genbank',\n",
    "  'segment':'genome',\n",
    "  'authors':\"\"\"Uehara,A., Queen,K., Tao,Y., Li,Y., Paden,C.R., Zhang,J., Lu,X.,\n",
    "            Lynch,B., Sakthivel,S.K.K., Whitaker,B.L., Kamili,S., Wang,L.,\n",
    "            Murray,J.R., Gerber,S.I., Lindstrom,S. and Tong,S.\"\"\",\n",
    "  'url':'https://www.ncbi.nlm.nih.gov/nuccore/MN994467.1',\n",
    "  'title':'nCoV-2019 California case 1',\n",
    "  'journal':'',\n",
    "  'paper_url':''\n",
    "  },\n",
    "  {\n",
    "  'strain':'MN994468.1',\n",
    "  'virus':'SARS-CoV-2',\n",
    "  'accession':'MN994468',\n",
    "  'date':'2020-02-11',\n",
    "  'region':'USA',\n",
    "  'country':'USA',\n",
    "  'division':'USA',\n",
    "  'city':'California',\n",
    "  'db':'genbank',\n",
    "  'segment':'genome',\n",
    "  'authors':\"\"\"Uehara,A., Queen,K., Tao,Y., Li,Y., Paden,C.R., Zhang,J., Lu,X.,\n",
    "            Lynch,B., Sakthivel,S.K.K., Whitaker,B.L., Kamili,S., Wang,L.,\n",
    "            Murray,J.R., Gerber,S.I., Lindstrom,S. and Tong,S.\"\"\",\n",
    "  'url':'https://www.ncbi.nlm.nih.gov/nuccore/MN994468.1',\n",
    "  'title':'nCoV-2019 California case 2',\n",
    "  'journal':'',\n",
    "  'paper_url':''\n",
    "  },\n",
    "  {\n",
    "  'strain':'MN997409.1',\n",
    "  'virus':'SARS-CoV-2',\n",
    "  'accession':'MN997409',\n",
    "  'date':'2020-02-11',\n",
    "  'region':'USA',\n",
    "  'country':'USA',\n",
    "  'division':'USA',\n",
    "  'city':'Arizona',\n",
    "  'db':'genbank',\n",
    "  'segment':'genome',\n",
    "  'authors':\"\"\"Tao,Y., Paden,C.R., Queen,K., Uehara,A., Li,Y., Zhang,J., Lu,X.,\n",
    "            Lynch,B., Sakthivel,S.K.K., Whitaker,B.L., Kamili,S., Wang,L.,\n",
    "            Murray,J.R., Gerber,S.I., Lindstrom,S. and Tong,S.\"\"\",\n",
    "  'url':'https://www.ncbi.nlm.nih.gov/nuccore/MN997409.1',\n",
    "  'title':'nCoV-2019 sequence from Arizona case',\n",
    "  'journal':'',\n",
    "  'paper_url':''\n",
    "  }\n",
    "]\n"
   ]
  },
  {
   "cell_type": "code",
   "execution_count": 11,
   "metadata": {},
   "outputs": [],
   "source": [
    "## load metadata and write tsv files\n",
    "METADATA_FILE = '/tmp/metadata.tsv'\n",
    "\n",
    "df = pd.DataFrame(metadata)\n",
    "df.to_csv(METADATA_FILE,sep='\\t',index=False)"
   ]
  },
  {
   "cell_type": "code",
   "execution_count": 12,
   "metadata": {},
   "outputs": [
    {
     "name": "stdout",
     "output_type": "stream",
     "text": [
      "\n",
      "1.07\tTreeTime.reroot: with method or node: least-squares\n",
      "\n",
      "1.07\tTreeTime.reroot: rerooting will ignore covariance and shared ancestry.\n",
      "\n",
      "1.09\tTreeTime.reroot: with method or node: least-squares\n",
      "\n",
      "1.09\tTreeTime.reroot: rerooting will ignore covariance and shared ancestry.\n",
      "\n",
      "1.11\tWARNING: Previous versions of TreeTime (<0.7.0) RECONSTRUCTED sequences of\n",
      "    \ttips at positions with AMBIGUOUS bases. This resulted in unexpected\n",
      "    \tbehavior is some cases and is no longer done by default. If you want to\n",
      "    \treplace those ambiguous sites with their most likely state, rerun with\n",
      "    \t`reconstruct_tip_states=True` or `--reconstruct-tip-states`.\n",
      "\n",
      "1.16\tTreeTime.reroot: with method or node: least-squares\n",
      "\n",
      "1.16\tTreeTime.reroot: rerooting will account for covariance and shared ancestry.\n",
      "\n",
      "1.26\t###TreeTime.run: INITIAL ROUND\n",
      "\n",
      "1.69\tTreeTime.reroot: with method or node: least-squares\n",
      "\n",
      "1.70\tTreeTime.reroot: rerooting will account for covariance and shared ancestry.\n",
      "\n",
      "1.72\t###TreeTime.run: rerunning timetree after rerooting\n",
      "\n",
      "2.17\t###TreeTime.run: ITERATION 1 out of 2 iterations\n",
      "\n",
      "2.92\t###TreeTime.run: ITERATION 2 out of 2 iterations\n",
      "\n",
      "3.75\t###TreeTime.run: CONVERGED\n",
      "\n",
      "5.71\t###TreeTime.run: FINAL ROUND - confidence estimation via marginal\n",
      "    \treconstruction\n",
      "\n",
      "Inferred a time resolved phylogeny using TreeTime:\n",
      "\tSagulenko et al. TreeTime: Maximum-likelihood phylodynamic analysis\n",
      "\tVirus Evolution, vol 4, https://academic.oup.com/ve/article/4/1/vex042/4794731\n",
      "\n",
      "updated tree written to /tmp/corona_refined.tree\n",
      "node attributes written to /tmp/corona_branch_lengths.json\n"
     ]
    }
   ],
   "source": [
    "REFINED_TREE = '/tmp/corona_refined.tree'\n",
    "BRANCH_LENGTHS_JSON = '/tmp/corona_branch_lengths.json'\n",
    "!augur refine \\\n",
    "  --tree $RAW_TREE \\\n",
    "  --alignment $ALIGNED_FASTA \\\n",
    "  --metadata $METADATA_FILE \\\n",
    "  --output-tree $REFINED_TREE \\\n",
    "  --output-node-data $BRANCH_LENGTHS_JSON \\\n",
    "  --timetree \\\n",
    "  --coalescent opt \\\n",
    "  --date-confidence \\\n",
    "  --date-inference marginal \\\n",
    "  --clock-filter-iqd 4"
   ]
  },
  {
   "cell_type": "code",
   "execution_count": 13,
   "metadata": {},
   "outputs": [
    {
     "name": "stdout",
     "output_type": "stream",
     "text": [
      "Assigned discrete traits to 9 out of 9 taxa.\n",
      "\n",
      "NOTE: previous versions (<0.7.0) of this command made a 'short-branch\n",
      "length assumption. TreeTime now optimizes the overall rate numerically\n",
      "and thus allows for long branches along which multiple changes\n",
      "accumulated. This is expected to affect estimates of the overall rate\n",
      "while leaving the relative rates mostly unchanged.\n",
      "Assigned discrete traits to 9 out of 9 taxa.\n",
      "\n",
      "NOTE: previous versions (<0.7.0) of this command made a 'short-branch\n",
      "length assumption. TreeTime now optimizes the overall rate numerically\n",
      "and thus allows for long branches along which multiple changes\n",
      "accumulated. This is expected to affect estimates of the overall rate\n",
      "while leaving the relative rates mostly unchanged.\n",
      "\n",
      "Inferred ancestral states of discrete character using TreeTime:\n",
      "\tSagulenko et al. TreeTime: Maximum-likelihood phylodynamic analysis\n",
      "\tVirus Evolution, vol 4, https://academic.oup.com/ve/article/4/1/vex042/4794731\n",
      "\n",
      "results written to /tmp/corona_traits.json\n"
     ]
    }
   ],
   "source": [
    "## Annotate the Phylogeny\n",
    "### Reconstruct Ancestral Traits\n",
    "TRAITS_JSON = '/tmp/corona_traits.json'\n",
    "!augur traits \\\n",
    "  --tree $REFINED_TREE \\\n",
    "  --metadata $METADATA_FILE \\\n",
    "  --output $TRAITS_JSON \\\n",
    "  --columns region country \\\n",
    "  --confidence"
   ]
  },
  {
   "cell_type": "code",
   "execution_count": 14,
   "metadata": {},
   "outputs": [
    {
     "name": "stdout",
     "output_type": "stream",
     "text": [
      "\n",
      "Inferred ancestral sequence states using TreeTime:\n",
      "\tSagulenko et al. TreeTime: Maximum-likelihood phylodynamic analysis\n",
      "\tVirus Evolution, vol 4, https://academic.oup.com/ve/article/4/1/vex042/4794731\n",
      "\n",
      "ancestral mutations written to /tmp/corona_nt_muts.json\n"
     ]
    }
   ],
   "source": [
    "### Infer Ancestral Sequences\n",
    "NT_MUTS_JSON = '/tmp/corona_nt_muts.json'\n",
    "!augur ancestral \\\n",
    "  --tree $REFINED_TREE \\\n",
    "  --alignment $ALIGNED_FASTA \\\n",
    "  --output-node-data $NT_MUTS_JSON \\\n",
    "  --inference joint"
   ]
  },
  {
   "cell_type": "code",
   "execution_count": 15,
   "metadata": {},
   "outputs": [
    {
     "name": "stdout",
     "output_type": "stream",
     "text": [
      "Read in 12 features from reference sequence file\n",
      "amino acid mutations written to /tmp/corona_aa_muts.json\n"
     ]
    }
   ],
   "source": [
    "### Identify Amino-Acid Mutations\n",
    "AA_MUTS_JSON = '/tmp/corona_aa_muts.json'\n",
    "!augur translate \\\n",
    "  --tree $REFINED_TREE \\\n",
    "  --ancestral-sequences $NT_MUTS_JSON \\\n",
    "  --reference-sequence $reference_gb \\\n",
    "  --output $AA_MUTS_JSON"
   ]
  },
  {
   "cell_type": "code",
   "execution_count": 16,
   "metadata": {},
   "outputs": [
    {
     "name": "stdout",
     "output_type": "stream",
     "text": [
      "Writing /tmp/lat_longs.tsv\n"
     ]
    }
   ],
   "source": [
    "%%file /tmp/lat_longs.tsv\n",
    "country,china,31.0740838,107.7450643\n",
    "country,usa,42.6584011,-80.2716978\n",
    "region,china,31.0740838,107.7450643\n",
    "region,usa,42.6584011,-80.2716978"
   ]
  },
  {
   "cell_type": "code",
   "execution_count": 17,
   "metadata": {},
   "outputs": [
    {
     "name": "stdout",
     "output_type": "stream",
     "text": [
      "Writing /tmp/colors.tsv\n"
     ]
    }
   ],
   "source": [
    "%%file /tmp/colors.tsv\n",
    "country,china,#511EA8\n",
    "country,usa,#cd5700\n",
    "region,china,#511EA8\n",
    "region,usa,#cd5700"
   ]
  },
  {
   "cell_type": "code",
   "execution_count": 18,
   "metadata": {},
   "outputs": [],
   "source": [
    "!sed -i 's|,|\\t|g' /tmp/lat_longs.tsv"
   ]
  },
  {
   "cell_type": "code",
   "execution_count": 19,
   "metadata": {},
   "outputs": [],
   "source": [
    "!sed -i 's|,|\\t|g' /tmp/colors.tsv"
   ]
  },
  {
   "cell_type": "code",
   "execution_count": 20,
   "metadata": {},
   "outputs": [
    {
     "name": "stdout",
     "output_type": "stream",
     "text": [
      "Writing /tmp/auspice_config.json\n"
     ]
    }
   ],
   "source": [
    "%%file /tmp/auspice_config.json\n",
    "{\n",
    "  \"title\": \"Covid-19 5 samples\",\n",
    "  \"maintainers\": [\n",
    "    {\"name\": \"Your name\", \"url\": \"your url\"}\n",
    "  ],\n",
    "  \"build_url\": \"your build url\",\n",
    "  \"colorings\": [\n",
    "    {\n",
    "      \"key\": \"gt\",\n",
    "      \"title\": \"Genotype\",\n",
    "      \"type\": \"categorical\"\n",
    "    },\n",
    "    {\n",
    "      \"key\": \"num_date\",\n",
    "      \"title\": \"Date\",\n",
    "      \"type\": \"continuous\"\n",
    "    },\n",
    "    {\n",
    "      \"key\": \"author\",\n",
    "      \"title\": \"Author\",\n",
    "      \"type\": \"categorical\"\n",
    "    },\n",
    "    {\n",
    "      \"key\": \"country\",\n",
    "      \"title\": \"Country\",\n",
    "      \"type\": \"categorical\"\n",
    "    },\n",
    "    {\n",
    "      \"key\": \"region\",\n",
    "      \"title\": \"Region\",\n",
    "      \"type\": \"categorical\"\n",
    "    }\n",
    "  ],\n",
    "  \"geo_resolutions\": [\n",
    "    \"country\",\n",
    "    \"region\"\n",
    "  ],\n",
    "  \"panels\": [\n",
    "     \"tree\",\n",
    "     \"map\"\n",
    "  ],\n",
    "  \"display_defaults\": {\n",
    "    \"map_triplicate\": true\n",
    "  },\n",
    "  \"filters\": [\n",
    "    \"country\",\n",
    "    \"region\",\n",
    "    \"author\"\n",
    "  ]\n",
    "}"
   ]
  },
  {
   "cell_type": "code",
   "execution_count": 21,
   "metadata": {},
   "outputs": [
    {
     "name": "stdout",
     "output_type": "stream",
     "text": [
      "Validating schema of '/tmp/corona_aa_muts.json'...\n",
      "Validating config file /tmp/auspice_config.json against the JSON schema\n",
      "Validating schema of '/tmp/auspice_config.json'...\n",
      "Validating produced JSON\n",
      "Validating schema of 'corona.json'...\n",
      "Validating that the JSON is internally consistent...\n",
      "Validation of 'corona.json' succeeded.\n",
      "\n"
     ]
    }
   ],
   "source": [
    "### Export the Results\n",
    "NEXTSTRAIN_SERVER_JSON = 'corona.json'\n",
    "!augur export v2 \\\n",
    "  --tree $REFINED_TREE \\\n",
    "  --metadata $METADATA_FILE \\\n",
    "  --node-data $BRANCH_LENGTHS_JSON \\\n",
    "              $TRAITS_JSON \\\n",
    "              $NT_MUTS_JSON \\\n",
    "              $AA_MUTS_JSON \\\n",
    "  --colors /tmp/colors.tsv \\\n",
    "  --lat-longs /tmp/lat_longs.tsv \\\n",
    "  --auspice-config /tmp/auspice_config.json \\\n",
    "  --output $NEXTSTRAIN_SERVER_JSON"
   ]
  },
  {
   "cell_type": "markdown",
   "metadata": {},
   "source": [
    "## Nextstrain visualization\n",
    "\n",
    "* Download corona.json file to `/local/path/data`\n",
    "* Install docker on local PC\n",
    "* Get docker image: `docker pull nextstrain/base`\n",
    "* Run docker image: `docker run -it -p4000:4000 -v /local/path:/nextstrain.org -e HOST=0.0.0.0 nextstrain/base auspice view --datasetDir /nextstrain.org/data`\n",
    "* Access `localhost:4000` in browser"
   ]
  },
  {
   "cell_type": "markdown",
   "metadata": {},
   "source": [
    "## References\n",
    "* Hadfield et al., Nextstrain: real-time tracking of pathogen evolution, Bioinformatics (2018)"
   ]
  },
  {
   "cell_type": "code",
   "execution_count": null,
   "metadata": {},
   "outputs": [],
   "source": []
  }
 ],
 "metadata": {
  "kernelspec": {
   "display_name": "Python 3",
   "language": "python",
   "name": "python3"
  },
  "language_info": {
   "codemirror_mode": {
    "name": "ipython",
    "version": 3
   },
   "file_extension": ".py",
   "mimetype": "text/x-python",
   "name": "python",
   "nbconvert_exporter": "python",
   "pygments_lexer": "ipython3",
   "version": "3.6.9"
  }
 },
 "nbformat": 4,
 "nbformat_minor": 4
}
